{
 "cells": [
  {
   "cell_type": "code",
   "execution_count": 2,
   "metadata": {},
   "outputs": [],
   "source": [
    "import os\n",
    "import pandas as pd\n",
    "import numpy as np\n",
    "import librosa\n",
    "from keras.models import model_from_json"
   ]
  },
  {
   "cell_type": "code",
   "execution_count": 8,
   "metadata": {},
   "outputs": [
    {
     "name": "stdout",
     "output_type": "stream",
     "text": [
      "\u001b[1m1/1\u001b[0m \u001b[32m━━━━━━━━━━━━━━━━━━━━\u001b[0m\u001b[37m\u001b[0m \u001b[1m0s\u001b[0m 247ms/step\n",
      "\u001b[1m1/1\u001b[0m \u001b[32m━━━━━━━━━━━━━━━━━━━━\u001b[0m\u001b[37m\u001b[0m \u001b[1m0s\u001b[0m 52ms/step\n",
      "\u001b[1m1/1\u001b[0m \u001b[32m━━━━━━━━━━━━━━━━━━━━\u001b[0m\u001b[37m\u001b[0m \u001b[1m0s\u001b[0m 33ms/step\n",
      "\u001b[1m1/1\u001b[0m \u001b[32m━━━━━━━━━━━━━━━━━━━━\u001b[0m\u001b[37m\u001b[0m \u001b[1m0s\u001b[0m 48ms/step\n",
      "Predicted emotions and probabilities saved to predicted_emotions_with_probabilities.csv\n"
     ]
    }
   ],
   "source": [
    "\n",
    "json_file_path = r'target\\project_emotion_detection_final_version2.json'\n",
    "weights_file_path = r'target\\project_emotion_detection_final_version2.weights.h5'\n",
    "\n",
    "# Load model\n",
    "with open(json_file_path, 'r') as json_file:\n",
    "    loaded_model_json = json_file.read()\n",
    "\n",
    "loaded_model = model_from_json(loaded_model_json)\n",
    "loaded_model.load_weights(weights_file_path)\n",
    "\n",
    "res_type_s = 'kaiser_best'\n",
    "duration_s = None  \n",
    "sample_rate_s = 16000\n",
    "sample_rate_mfcc = 16000\n",
    "offset_s = 0.0\n",
    "n_mfcc = 40\n",
    "axis_mfcc = 1  \n",
    "\n",
    "emotions = ['Cáu Giận', 'Lạnh Lùng', 'Mệt Mỏi', 'Thân Thiện', 'Vui Vẻ']\n",
    "\n",
    "dataset_folder = r'C:\\Users\\Kin Tu\\Documents\\RecordProcessing\\Audio\\Processed\\Thân Thiện_Mệt mỏi_Lạnh Lùng_Cáu giận\\Processed'\n",
    "output_csv = r'predicted_emotions_with_probabilities.csv'\n",
    "\n",
    "def extract_features(file_path):\n",
    "    X, sample_rate = librosa.load(file_path, \n",
    "                                  res_type=res_type_s, \n",
    "                                  duration=duration_s, \n",
    "                                  sr=sample_rate_s, \n",
    "                                  offset=offset_s)\n",
    "    mfccs = librosa.feature.mfcc(y=X, sr=sample_rate_mfcc, n_mfcc=n_mfcc)\n",
    "    mfccs_mean = np.mean(mfccs, axis=axis_mfcc)\n",
    "    return mfccs_mean\n",
    "\n",
    "# Dự đoán cảm xúc từ file WAV\n",
    "def predict_emotion(file_path):\n",
    "    try:\n",
    "        features = extract_features(file_path)\n",
    "        features_df = pd.DataFrame([features])\n",
    "        prediction = loaded_model.predict(features_df)\n",
    "        predicted_class = np.argmax(prediction, axis=1)\n",
    "        predicted_probabilities = prediction[0]  # Lấy xác suất từng lớp\n",
    "        return emotions[predicted_class[0]], predicted_probabilities\n",
    "    except Exception as e:\n",
    "        return f\"Error: {e}\", None\n",
    "\n",
    "results = []\n",
    "\n",
    "for file_name in os.listdir(dataset_folder):\n",
    "    if file_name.endswith('.wav'):  # Chỉ xử lý file WAV\n",
    "        file_path = os.path.join(dataset_folder, file_name)\n",
    "        predicted_emotion, predicted_probabilities = predict_emotion(file_path)\n",
    "        if predicted_probabilities is not None:\n",
    "            results.append({\n",
    "                'File Name': file_name,\n",
    "                'Predicted Emotion': predicted_emotion,\n",
    "                # 'Probabilities': ', '.join([f\"{emotions[i]}: {predicted_probabilities[i]:.2f}\" for i in range(len(emotions))])\n",
    "            })\n",
    "        else:\n",
    "            results.append({\n",
    "                'File Name': file_name,\n",
    "                'Predicted Emotion': predicted_emotion,\n",
    "                'Probabilities': 'Error'\n",
    "            })\n",
    "\n",
    "results_df = pd.DataFrame(results)\n",
    "results_df.to_csv(output_csv, index=False, encoding='utf-8')\n",
    "\n",
    "print(f\"Predicted emotions and probabilities saved to {output_csv}\")\n"
   ]
  },
  {
   "cell_type": "code",
   "execution_count": null,
   "metadata": {},
   "outputs": [],
   "source": []
  }
 ],
 "metadata": {
  "kernelspec": {
   "display_name": "Python 3",
   "language": "python",
   "name": "python3"
  },
  "language_info": {
   "codemirror_mode": {
    "name": "ipython",
    "version": 3
   },
   "file_extension": ".py",
   "mimetype": "text/x-python",
   "name": "python",
   "nbconvert_exporter": "python",
   "pygments_lexer": "ipython3",
   "version": "3.12.0"
  }
 },
 "nbformat": 4,
 "nbformat_minor": 2
}
